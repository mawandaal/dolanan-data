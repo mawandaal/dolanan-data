{
 "cells": [
  {
   "cell_type": "markdown",
   "id": "f3341912",
   "metadata": {},
   "source": [
    "# Dolanan Data #3"
   ]
  },
  {
   "cell_type": "markdown",
   "id": "3ed51643",
   "metadata": {},
   "source": [
    "**Dolanan Data #3** ini hadir dengan tema **Preprocessing Data: Excel vs Python**. Kita akan mencoba melakukan preprocessing dan mengolah data secara paralel antara Python dengan library Pandas dan kita akan melihat padanannya yang dilakukan menggunakan Microsoft Excel."
   ]
  },
  {
   "cell_type": "markdown",
   "id": "4726f94c",
   "metadata": {},
   "source": [
    "Dataset yang digunakan adalah open data mengenai **Daftar Harga Komoditas Bahan Pokok di Pasar Sederhana Tahun 2020** yang diambil dari website Open Data Kota Bandung (http://data.bandung.go.id/dataset/daftar-harga-komoditas-bahan-pokok-di-pasar-sederhana-tahun-2020/resource/349b9246-4e07-4d77-8b46-27c6d1a1e564). <br/>\n",
    "Data ini berisi kolom :\n",
    "- Lokasi\n",
    "- Nama komoditas\n",
    "- Harga komoditas harian"
   ]
  },
  {
   "cell_type": "markdown",
   "id": "8cd6e5a5",
   "metadata": {},
   "source": [
    "Kita akan melakukan cleaning data dan menyesuaikan bentuk data menjadi data tabular agar bisa ditampilkan/divisualisasikan menggunakan line plot agar kita mendapatkan insight dari data tersebut."
   ]
  },
  {
   "cell_type": "markdown",
   "id": "ab0f6b72",
   "metadata": {},
   "source": [
    "Peserta diharapkan mengikuti tutorial dan mengganti \"...\" menjadi perintah yang sesuai pada line-line code-code di bawah ini agar proses bisa berjalan secara semestinya."
   ]
  },
  {
   "cell_type": "markdown",
   "id": "e1a994f5",
   "metadata": {},
   "source": [
    "## Import Library"
   ]
  },
  {
   "cell_type": "code",
   "execution_count": null,
   "id": "40228359",
   "metadata": {
    "ExecuteTime": {
     "end_time": "2021-08-27T15:24:13.535979Z",
     "start_time": "2021-08-27T15:24:12.581168Z"
    }
   },
   "outputs": [],
   "source": [
    "import ... as pd\n",
    "import ... as np"
   ]
  },
  {
   "cell_type": "markdown",
   "id": "c0a975b0",
   "metadata": {},
   "source": [
    "## Import Dataset"
   ]
  },
  {
   "cell_type": "markdown",
   "id": "fbdf2ac3",
   "metadata": {},
   "source": [
    "### Import Dataset dan Explore"
   ]
  },
  {
   "cell_type": "code",
   "execution_count": null,
   "id": "4db9a2a4",
   "metadata": {
    "ExecuteTime": {
     "end_time": "2021-08-27T15:24:13.628851Z",
     "start_time": "2021-08-27T15:24:13.539900Z"
    }
   },
   "outputs": [],
   "source": [
    "#Untuk melihat data apa saja yang ada di folder kita berada saat ini\n",
    "!dir"
   ]
  },
  {
   "cell_type": "code",
   "execution_count": null,
   "id": "b20509b0",
   "metadata": {
    "ExecuteTime": {
     "end_time": "2021-08-27T15:24:13.659887Z",
     "start_time": "2021-08-27T15:24:13.630851Z"
    }
   },
   "outputs": [],
   "source": [
    "#Import dataset dalam bentuk file CSV\n",
    "df = pd.read_csv(\"...\")"
   ]
  },
  {
   "cell_type": "code",
   "execution_count": null,
   "id": "de709912",
   "metadata": {
    "ExecuteTime": {
     "end_time": "2021-08-27T15:24:13.675057Z",
     "start_time": "2021-08-27T15:24:13.661884Z"
    }
   },
   "outputs": [],
   "source": [
    "#Menghilangkan batas jumlah maksimal tampilan kolom dari tabel pada Pandas\n",
    "pd.set_option(\"display....\", None)"
   ]
  },
  {
   "cell_type": "code",
   "execution_count": null,
   "id": "579e3386",
   "metadata": {
    "ExecuteTime": {
     "end_time": "2021-08-27T15:24:13.691014Z",
     "start_time": "2021-08-27T15:24:13.676054Z"
    }
   },
   "outputs": [],
   "source": [
    "#Melihat ukuran dari tabel yang diimport (baris, kolom)\n",
    "df...."
   ]
  },
  {
   "cell_type": "code",
   "execution_count": null,
   "id": "5761ba6e",
   "metadata": {
    "ExecuteTime": {
     "end_time": "2021-08-27T15:24:13.738286Z",
     "start_time": "2021-08-27T15:24:13.693009Z"
    }
   },
   "outputs": [],
   "source": [
    "#Menampilkan tabel\n",
    "df"
   ]
  },
  {
   "cell_type": "code",
   "execution_count": null,
   "id": "68380238",
   "metadata": {
    "ExecuteTime": {
     "end_time": "2021-08-27T15:24:13.754245Z",
     "start_time": "2021-08-27T15:24:13.739284Z"
    }
   },
   "outputs": [],
   "source": [
    "#Menampilkan informasi dari tabel\n",
    "df....()"
   ]
  },
  {
   "cell_type": "code",
   "execution_count": null,
   "id": "6f507c0f",
   "metadata": {
    "ExecuteTime": {
     "end_time": "2021-08-27T15:24:13.861996Z",
     "start_time": "2021-08-27T15:24:13.759231Z"
    }
   },
   "outputs": [],
   "source": [
    "#Menampilkan nilai statistik deskriptif dari tabel untuk masing-masing kolom\n",
    "df....()"
   ]
  },
  {
   "cell_type": "markdown",
   "id": "bdbd4027",
   "metadata": {},
   "source": [
    "### Mengganti data dengan nilai 0 jadi cell kosong"
   ]
  },
  {
   "cell_type": "code",
   "execution_count": null,
   "id": "6460918a",
   "metadata": {
    "ExecuteTime": {
     "end_time": "2021-08-27T15:24:13.876921Z",
     "start_time": "2021-08-27T15:24:13.864953Z"
    }
   },
   "outputs": [],
   "source": [
    "#Mengganti nilai 0 menjadi NaN (missing value) agar bisa diimputasi lebih mudah\n",
    "df....(0, np.nan, inplace = True)"
   ]
  },
  {
   "cell_type": "code",
   "execution_count": null,
   "id": "754ae9ff",
   "metadata": {
    "ExecuteTime": {
     "end_time": "2021-08-27T15:24:13.966719Z",
     "start_time": "2021-08-27T15:24:13.877918Z"
    }
   },
   "outputs": [],
   "source": [
    "df"
   ]
  },
  {
   "cell_type": "code",
   "execution_count": null,
   "id": "e78d7c1b",
   "metadata": {
    "ExecuteTime": {
     "end_time": "2021-08-27T15:24:13.996601Z",
     "start_time": "2021-08-27T15:24:13.967682Z"
    }
   },
   "outputs": [],
   "source": [
    "df....()"
   ]
  },
  {
   "cell_type": "code",
   "execution_count": null,
   "id": "a509891a",
   "metadata": {
    "ExecuteTime": {
     "end_time": "2021-08-27T15:24:14.087399Z",
     "start_time": "2021-08-27T15:24:13.998596Z"
    }
   },
   "outputs": [],
   "source": [
    "df....()"
   ]
  },
  {
   "cell_type": "markdown",
   "id": "243d65de",
   "metadata": {},
   "source": [
    "## Memeriksa Missing Value pada Dataframe"
   ]
  },
  {
   "cell_type": "markdown",
   "id": "1abe9d42",
   "metadata": {},
   "source": [
    "### Memeriksa Missing Value pada Baris Mana"
   ]
  },
  {
   "cell_type": "code",
   "execution_count": null,
   "id": "b9bc8b62",
   "metadata": {
    "ExecuteTime": {
     "end_time": "2021-08-27T15:24:14.102982Z",
     "start_time": "2021-08-27T15:24:14.088362Z"
    }
   },
   "outputs": [],
   "source": [
    "df...."
   ]
  },
  {
   "cell_type": "code",
   "execution_count": null,
   "id": "495e3420",
   "metadata": {
    "ExecuteTime": {
     "end_time": "2021-08-27T15:24:14.118934Z",
     "start_time": "2021-08-27T15:24:14.103939Z"
    }
   },
   "outputs": [],
   "source": [
    "#Melihat kolom mana saja yang mengandung nilai missing value\n",
    "df....().sum()"
   ]
  },
  {
   "cell_type": "code",
   "execution_count": null,
   "id": "9288a560",
   "metadata": {
    "ExecuteTime": {
     "end_time": "2021-08-27T15:24:14.134858Z",
     "start_time": "2021-08-27T15:24:14.119899Z"
    }
   },
   "outputs": [],
   "source": [
    "#Melihat baris mana saja yang mengandung nilai missing value\n",
    "df....().sum(...)"
   ]
  },
  {
   "cell_type": "code",
   "execution_count": null,
   "id": "101d0053",
   "metadata": {
    "ExecuteTime": {
     "end_time": "2021-08-27T15:24:14.166807Z",
     "start_time": "2021-08-27T15:24:14.135854Z"
    }
   },
   "outputs": [],
   "source": [
    "#Melihat baris mana saja yang semuanya mengandung nilai missing value\n",
    "df....().sum(...)==..."
   ]
  },
  {
   "cell_type": "code",
   "execution_count": null,
   "id": "0da935b3",
   "metadata": {
    "ExecuteTime": {
     "end_time": "2021-08-27T15:24:14.181775Z",
     "start_time": "2021-08-27T15:24:14.167769Z"
    }
   },
   "outputs": [],
   "source": [
    "#Menghitung jumlah baris yang semuanya mengandung nilai missing value\n",
    "(df....().sum(...)==...).sum()"
   ]
  },
  {
   "cell_type": "code",
   "execution_count": null,
   "id": "002c0fa1",
   "metadata": {
    "ExecuteTime": {
     "end_time": "2021-08-27T15:24:14.212060Z",
     "start_time": "2021-08-27T15:24:14.182729Z"
    }
   },
   "outputs": [],
   "source": [
    "#Melihat/menampilkan baris yang semuanya mengandung nilai missing value\n",
    "df....[[..., ...], :]"
   ]
  },
  {
   "cell_type": "markdown",
   "id": "0d09b45a",
   "metadata": {},
   "source": [
    "#### Menghapus/drop kolom missing value dengan cara slicing"
   ]
  },
  {
   "cell_type": "code",
   "execution_count": null,
   "id": "12e7b647",
   "metadata": {
    "ExecuteTime": {
     "end_time": "2021-08-27T15:24:14.228012Z",
     "start_time": "2021-08-27T15:24:14.215208Z"
    }
   },
   "outputs": [],
   "source": [
    "#Menghapus/drop baris yang mengandung nilai missing value (baris 16 dan 19)\n",
    "df.drop([..., ...], axis = ..., inplace = True)"
   ]
  },
  {
   "cell_type": "code",
   "execution_count": null,
   "id": "a1e30cd7",
   "metadata": {
    "ExecuteTime": {
     "end_time": "2021-08-27T15:24:14.243974Z",
     "start_time": "2021-08-27T15:24:14.228979Z"
    }
   },
   "outputs": [],
   "source": [
    "df...."
   ]
  },
  {
   "cell_type": "markdown",
   "id": "4272594d",
   "metadata": {},
   "source": [
    "### Memeriksa Missing Value pada Kolom Mana"
   ]
  },
  {
   "cell_type": "code",
   "execution_count": null,
   "id": "5089c5d9",
   "metadata": {
    "ExecuteTime": {
     "end_time": "2021-08-27T15:24:14.259896Z",
     "start_time": "2021-08-27T15:24:14.245934Z"
    }
   },
   "outputs": [],
   "source": [
    "df....().sum()"
   ]
  },
  {
   "cell_type": "code",
   "execution_count": null,
   "id": "756762ab",
   "metadata": {
    "ExecuteTime": {
     "end_time": "2021-08-27T15:24:14.275861Z",
     "start_time": "2021-08-27T15:24:14.261893Z"
    }
   },
   "outputs": [],
   "source": [
    "#Melihat kolom mana saja yang mengandung nilai missing value\n",
    "df....().sum()==..."
   ]
  },
  {
   "cell_type": "code",
   "execution_count": null,
   "id": "53a880d5",
   "metadata": {
    "ExecuteTime": {
     "end_time": "2021-08-27T15:24:14.291814Z",
     "start_time": "2021-08-27T15:24:14.279843Z"
    }
   },
   "outputs": [],
   "source": [
    "#Menghitung jumlah kolom yang semuanya mengandung nilai missing value\n",
    "(df....().sum()==...).sum()"
   ]
  },
  {
   "cell_type": "code",
   "execution_count": null,
   "id": "9740a9e0",
   "metadata": {
    "ExecuteTime": {
     "end_time": "2021-08-27T15:24:14.339230Z",
     "start_time": "2021-08-27T15:24:14.295802Z"
    }
   },
   "outputs": [],
   "source": [
    "df.head()"
   ]
  },
  {
   "cell_type": "code",
   "execution_count": null,
   "id": "70b825d3",
   "metadata": {
    "ExecuteTime": {
     "end_time": "2021-08-27T15:24:14.370149Z",
     "start_time": "2021-08-27T15:24:14.343190Z"
    }
   },
   "outputs": [],
   "source": [
    "#Melihat/menampilkan kolom yang semuanya mengandung nilai missing value\n",
    "df....[:, [..., ..., ..., ..., ..., ...]]"
   ]
  },
  {
   "cell_type": "markdown",
   "id": "e611eea1",
   "metadata": {},
   "source": [
    "#### Menghapus/drop kolom missing value dengan cara slicing"
   ]
  },
  {
   "cell_type": "code",
   "execution_count": null,
   "id": "917dcfdf",
   "metadata": {
    "ExecuteTime": {
     "end_time": "2021-08-27T15:24:14.385108Z",
     "start_time": "2021-08-27T15:24:14.371111Z"
    }
   },
   "outputs": [],
   "source": [
    "#Melihat kolom mana saja yang tidak semuanya mengandung nilai missing value dan mengubahknya menjadi bentuk list\n",
    "(df....().sum()!=...).to_list()"
   ]
  },
  {
   "cell_type": "code",
   "execution_count": null,
   "id": "bbf59fbc",
   "metadata": {
    "ExecuteTime": {
     "end_time": "2021-08-27T15:24:14.400602Z",
     "start_time": "2021-08-27T15:24:14.386071Z"
    }
   },
   "outputs": [],
   "source": [
    "#Menghapus/drop kolom yang semuanya mengandung nilai missing value\n",
    "#dengan cara slicing kolom yang tidak semuanya mengandung nilai missing value\n",
    "df2 = df....[:, (df....().sum()!=...).to_list()]"
   ]
  },
  {
   "cell_type": "code",
   "execution_count": null,
   "id": "7dd0692c",
   "metadata": {
    "ExecuteTime": {
     "end_time": "2021-08-27T15:24:14.478370Z",
     "start_time": "2021-08-27T15:24:14.401539Z"
    }
   },
   "outputs": [],
   "source": [
    "df2"
   ]
  },
  {
   "cell_type": "code",
   "execution_count": null,
   "id": "8cab2ef4",
   "metadata": {
    "ExecuteTime": {
     "end_time": "2021-08-27T15:24:14.493295Z",
     "start_time": "2021-08-27T15:24:14.479332Z"
    }
   },
   "outputs": [],
   "source": [
    "df2.shape"
   ]
  },
  {
   "cell_type": "markdown",
   "id": "7d13bfca",
   "metadata": {},
   "source": [
    "### Memeriksa Missing Value Sisanya"
   ]
  },
  {
   "cell_type": "code",
   "execution_count": null,
   "id": "ab2f05ef",
   "metadata": {
    "ExecuteTime": {
     "end_time": "2021-08-27T15:24:14.508763Z",
     "start_time": "2021-08-27T15:24:14.494292Z"
    }
   },
   "outputs": [],
   "source": [
    "df2....().sum()"
   ]
  },
  {
   "cell_type": "code",
   "execution_count": null,
   "id": "0e011e49",
   "metadata": {
    "ExecuteTime": {
     "end_time": "2021-08-27T15:24:14.524759Z",
     "start_time": "2021-08-27T15:24:14.509761Z"
    }
   },
   "outputs": [],
   "source": [
    "#Menghitung jumlah kolom yang masih mengandung nilai missing value\n",
    "(df2....().sum()).sum()"
   ]
  },
  {
   "cell_type": "code",
   "execution_count": null,
   "id": "c01124a9",
   "metadata": {
    "ExecuteTime": {
     "end_time": "2021-08-27T15:24:14.555639Z",
     "start_time": "2021-08-27T15:24:14.526716Z"
    }
   },
   "outputs": [],
   "source": [
    "#Melihat/menampilkan kolom yang masih mengandung nilai missing value\n",
    "df2.iloc[:, [..., ..., ..., ...]]"
   ]
  },
  {
   "cell_type": "code",
   "execution_count": null,
   "id": "6ba5abf9",
   "metadata": {
    "ExecuteTime": {
     "end_time": "2021-08-27T15:24:14.586555Z",
     "start_time": "2021-08-27T15:24:14.557635Z"
    }
   },
   "outputs": [],
   "source": [
    "#Melihat/menampilkan baris lainnya yang masih mengandung nilai missing value\n",
    "df2.iloc[[...]]"
   ]
  },
  {
   "cell_type": "code",
   "execution_count": null,
   "id": "dab3c6ea",
   "metadata": {
    "ExecuteTime": {
     "end_time": "2021-08-27T15:24:14.602023Z",
     "start_time": "2021-08-27T15:24:14.588550Z"
    }
   },
   "outputs": [],
   "source": [
    "#Melihat/menampilkan cell yang masih mengandung nilai missing value\n",
    "df2.iloc[..., [..., ...]]"
   ]
  },
  {
   "cell_type": "markdown",
   "id": "06bc140f",
   "metadata": {},
   "source": [
    "#### Melakukam imputasi pada cell missing value dengan nilai median dari barisnya"
   ]
  },
  {
   "cell_type": "code",
   "execution_count": null,
   "id": "05190b3a",
   "metadata": {
    "ExecuteTime": {
     "end_time": "2021-08-27T15:24:14.617982Z",
     "start_time": "2021-08-27T15:24:14.603023Z"
    }
   },
   "outputs": [],
   "source": [
    "#Menghitung nilai median dari baris dimana nilai missing value berada\n",
    "df2.iloc[[...]].median(...)"
   ]
  },
  {
   "cell_type": "code",
   "execution_count": null,
   "id": "605e0cb3",
   "metadata": {
    "ExecuteTime": {
     "end_time": "2021-08-27T15:24:14.633972Z",
     "start_time": "2021-08-27T15:24:14.618980Z"
    }
   },
   "outputs": [],
   "source": [
    "#Melakukan imputasi dengan nilai median dari baris\n",
    "df2.iloc[..., [...]] = df2.iloc[[...]].median(...)\n",
    "df2.iloc[..., [...]] = df2.iloc[[...]].median(...)"
   ]
  },
  {
   "cell_type": "code",
   "execution_count": null,
   "id": "e1a5ca89",
   "metadata": {
    "ExecuteTime": {
     "end_time": "2021-08-27T15:24:14.665889Z",
     "start_time": "2021-08-27T15:24:14.634935Z"
    }
   },
   "outputs": [],
   "source": [
    "df2....[[...]]"
   ]
  },
  {
   "cell_type": "code",
   "execution_count": null,
   "id": "8b180882",
   "metadata": {
    "ExecuteTime": {
     "end_time": "2021-08-27T15:24:14.681845Z",
     "start_time": "2021-08-27T15:24:14.666850Z"
    }
   },
   "outputs": [],
   "source": [
    "df2....().sum()"
   ]
  },
  {
   "cell_type": "code",
   "execution_count": null,
   "id": "1cafcc77",
   "metadata": {
    "ExecuteTime": {
     "end_time": "2021-08-27T15:24:14.774604Z",
     "start_time": "2021-08-27T15:24:14.683805Z"
    }
   },
   "outputs": [],
   "source": [
    "df2"
   ]
  },
  {
   "cell_type": "code",
   "execution_count": null,
   "id": "59e8f65f",
   "metadata": {
    "ExecuteTime": {
     "end_time": "2021-08-27T15:24:14.790519Z",
     "start_time": "2021-08-27T15:24:14.775559Z"
    }
   },
   "outputs": [],
   "source": [
    "df2.shape"
   ]
  },
  {
   "cell_type": "markdown",
   "id": "9adf1915",
   "metadata": {},
   "source": [
    "## Menambah Kolom Kategori ke Dataframe Menggunakan Merge Dataframe"
   ]
  },
  {
   "cell_type": "code",
   "execution_count": null,
   "id": "1d6978bd",
   "metadata": {
    "ExecuteTime": {
     "end_time": "2021-08-27T15:24:14.852390Z",
     "start_time": "2021-08-27T15:24:14.793511Z"
    }
   },
   "outputs": [],
   "source": [
    "!dir"
   ]
  },
  {
   "cell_type": "code",
   "execution_count": null,
   "id": "616a7b4f",
   "metadata": {
    "ExecuteTime": {
     "end_time": "2021-08-27T15:24:14.884269Z",
     "start_time": "2021-08-27T15:24:14.853351Z"
    }
   },
   "outputs": [],
   "source": [
    "#Import dataset tambahan dalam bentuk file CSV untuk digabungkan dengan dataframe utama\n",
    "df_kat = pd.read_csv(\"...\")"
   ]
  },
  {
   "cell_type": "code",
   "execution_count": null,
   "id": "5a0ac6ff",
   "metadata": {
    "ExecuteTime": {
     "end_time": "2021-08-27T15:24:14.899228Z",
     "start_time": "2021-08-27T15:24:14.885265Z"
    }
   },
   "outputs": [],
   "source": [
    "df_kat"
   ]
  },
  {
   "cell_type": "code",
   "execution_count": null,
   "id": "55f25593",
   "metadata": {
    "ExecuteTime": {
     "end_time": "2021-08-27T15:24:14.914188Z",
     "start_time": "2021-08-27T15:24:14.900226Z"
    }
   },
   "outputs": [],
   "source": [
    "df_kat.shape"
   ]
  },
  {
   "cell_type": "code",
   "execution_count": null,
   "id": "9636a2a4",
   "metadata": {
    "ExecuteTime": {
     "end_time": "2021-08-27T15:24:14.930145Z",
     "start_time": "2021-08-27T15:24:14.915185Z"
    }
   },
   "outputs": [],
   "source": [
    "#Menampilkan nilai kategori apa saja yang ada di kolom 'Kategori'\n",
    "df_kat['...'].unique()"
   ]
  },
  {
   "cell_type": "code",
   "execution_count": null,
   "id": "59aba3d2",
   "metadata": {
    "ExecuteTime": {
     "end_time": "2021-08-27T15:24:14.946102Z",
     "start_time": "2021-08-27T15:24:14.931145Z"
    }
   },
   "outputs": [],
   "source": [
    "#Menghitung jumlah data pada masing-masing nilai kategori yang ada di kolom 'Kategori'\n",
    "df_kat['...'].groupby(df_kat['...']).count()"
   ]
  },
  {
   "cell_type": "code",
   "execution_count": null,
   "id": "2f86613b",
   "metadata": {
    "ExecuteTime": {
     "end_time": "2021-08-27T15:24:14.962097Z",
     "start_time": "2021-08-27T15:24:14.947100Z"
    }
   },
   "outputs": [],
   "source": [
    "#Menghitung jumlah data pada masing-masing nilai kategori beserta nama komoditasnya\n",
    "df_kat['...'].groupby(df_kat['...']).value_counts()"
   ]
  },
  {
   "cell_type": "code",
   "execution_count": null,
   "id": "962856c6",
   "metadata": {
    "ExecuteTime": {
     "end_time": "2021-08-27T15:24:14.978018Z",
     "start_time": "2021-08-27T15:24:14.963059Z"
    }
   },
   "outputs": [],
   "source": [
    "#Memisahkan kolom 'Kategori' dan 'nama_komunitas' dari dataframenya\n",
    "df_kat[['...', '...']]"
   ]
  },
  {
   "cell_type": "code",
   "execution_count": null,
   "id": "069651a1",
   "metadata": {
    "ExecuteTime": {
     "end_time": "2021-08-27T15:24:14.993012Z",
     "start_time": "2021-08-27T15:24:14.979015Z"
    }
   },
   "outputs": [],
   "source": [
    "#Membuat dataframe baru yang menggabungkan dataframe 'pasar-sederhana-01-2020' yang sudah dicleaning\n",
    "#dengan dataframe 'kategori-komoditas-pasar-sederhana' menjadi dataframe full\n",
    "df_full = pd.merge(df2, df_kat[['...', '...']], on = '...')"
   ]
  },
  {
   "cell_type": "code",
   "execution_count": null,
   "id": "7815e4ef",
   "metadata": {
    "ExecuteTime": {
     "end_time": "2021-08-27T15:24:15.083737Z",
     "start_time": "2021-08-27T15:24:14.993977Z"
    }
   },
   "outputs": [],
   "source": [
    "df_full"
   ]
  },
  {
   "cell_type": "code",
   "execution_count": null,
   "id": "b15c146a",
   "metadata": {
    "ExecuteTime": {
     "end_time": "2021-08-27T15:24:15.160531Z",
     "start_time": "2021-08-27T15:24:15.085730Z"
    }
   },
   "outputs": [],
   "source": [
    "df_full.describe()"
   ]
  },
  {
   "cell_type": "code",
   "execution_count": null,
   "id": "a4b4da64",
   "metadata": {
    "ExecuteTime": {
     "end_time": "2021-08-27T15:24:15.175516Z",
     "start_time": "2021-08-27T15:24:15.161530Z"
    }
   },
   "outputs": [],
   "source": [
    "df_full.shape"
   ]
  },
  {
   "cell_type": "markdown",
   "id": "8444c3d0",
   "metadata": {},
   "source": [
    "## Merapikan Dataframe Baru"
   ]
  },
  {
   "cell_type": "code",
   "execution_count": null,
   "id": "3b8febd8",
   "metadata": {
    "ExecuteTime": {
     "end_time": "2021-08-27T15:24:15.191447Z",
     "start_time": "2021-08-27T15:24:15.177485Z"
    }
   },
   "outputs": [],
   "source": [
    "#Menampilkan judul kolom/variabel dalam bentuk list\n",
    "list(df_full)"
   ]
  },
  {
   "cell_type": "code",
   "execution_count": null,
   "id": "dcb031ec",
   "metadata": {
    "ExecuteTime": {
     "end_time": "2021-08-27T15:24:15.207439Z",
     "start_time": "2021-08-27T15:24:15.192444Z"
    }
   },
   "outputs": [],
   "source": [
    "#Mengatur urutan judul kolom/variabel pada dataframe (kolom 'Kategori' dipindahkan ke awal-awal)\n",
    "df_full = df_full[[...]]"
   ]
  },
  {
   "cell_type": "code",
   "execution_count": null,
   "id": "7052a48c",
   "metadata": {
    "ExecuteTime": {
     "end_time": "2021-08-27T15:24:15.223363Z",
     "start_time": "2021-08-27T15:24:15.209399Z"
    }
   },
   "outputs": [],
   "source": [
    "#Mengubah nama kolom pada dataframe\n",
    "df_full....(columns={'lokasi':'...'}, inplace=True)\n",
    "df_full....(columns={'nama_komoditas':'...'}, inplace=True)"
   ]
  },
  {
   "cell_type": "code",
   "execution_count": null,
   "id": "6d781ac3",
   "metadata": {
    "ExecuteTime": {
     "end_time": "2021-08-27T15:24:15.255276Z",
     "start_time": "2021-08-27T15:24:15.226354Z"
    }
   },
   "outputs": [],
   "source": [
    "df_full.head()"
   ]
  },
  {
   "cell_type": "code",
   "execution_count": null,
   "id": "b0449b32",
   "metadata": {
    "ExecuteTime": {
     "end_time": "2021-08-27T15:24:15.271287Z",
     "start_time": "2021-08-27T15:24:15.257273Z"
    }
   },
   "outputs": [],
   "source": [
    "df_full.info()"
   ]
  },
  {
   "cell_type": "markdown",
   "id": "3b3048a8",
   "metadata": {},
   "source": [
    "## Membuat Data Tabular untuk Kategori"
   ]
  },
  {
   "cell_type": "code",
   "execution_count": null,
   "id": "61c2be0d",
   "metadata": {
    "ExecuteTime": {
     "end_time": "2021-08-27T15:24:15.302151Z",
     "start_time": "2021-08-27T15:24:15.272231Z"
    }
   },
   "outputs": [],
   "source": [
    "#Melakukan agregasi atau mengelompokkan nilai 'nama_komoditas' berdasarkan 'Kategori'\n",
    "#dengan nilai rata-ratanya\n",
    "df_full.groupby(df_full['...']).mean()"
   ]
  },
  {
   "cell_type": "code",
   "execution_count": null,
   "id": "f38795b0",
   "metadata": {
    "ExecuteTime": {
     "end_time": "2021-08-27T15:24:15.317145Z",
     "start_time": "2021-08-27T15:24:15.303151Z"
    }
   },
   "outputs": [],
   "source": [
    "#Menyimpan hasil agregasi atau pengelompokan nilai 'nama_komoditas' berdasarkan 'Kategori'\n",
    "#menjadi dataframe yang baru\n",
    "df_group_kat = df_full.groupby(df_full['...']).mean()"
   ]
  },
  {
   "cell_type": "code",
   "execution_count": null,
   "id": "48dde2fb",
   "metadata": {
    "ExecuteTime": {
     "end_time": "2021-08-27T15:24:15.349066Z",
     "start_time": "2021-08-27T15:24:15.318109Z"
    }
   },
   "outputs": [],
   "source": [
    "df_group_kat"
   ]
  },
  {
   "cell_type": "code",
   "execution_count": null,
   "id": "bd5b4318",
   "metadata": {
    "ExecuteTime": {
     "end_time": "2021-08-27T15:24:15.364030Z",
     "start_time": "2021-08-27T15:24:15.350024Z"
    }
   },
   "outputs": [],
   "source": [
    "df_group_kat.shape"
   ]
  },
  {
   "cell_type": "code",
   "execution_count": null,
   "id": "50c19beb",
   "metadata": {
    "ExecuteTime": {
     "end_time": "2021-08-27T15:24:15.378946Z",
     "start_time": "2021-08-27T15:24:15.364984Z"
    }
   },
   "outputs": [],
   "source": [
    "#Melakukan transpose dataframe yang baru (hasil agregasi) agar nilai-nilai di kolom 'Kategori'\n",
    "#menjadi kolom/variabel dataframenya\n",
    "df_tab_kat = df_group_kat....(copy = True)"
   ]
  },
  {
   "cell_type": "code",
   "execution_count": null,
   "id": "6df48c88",
   "metadata": {
    "ExecuteTime": {
     "end_time": "2021-08-27T15:24:15.410861Z",
     "start_time": "2021-08-27T15:24:15.380941Z"
    }
   },
   "outputs": [],
   "source": [
    "df_tab_kat"
   ]
  },
  {
   "cell_type": "code",
   "execution_count": null,
   "id": "9087eedb",
   "metadata": {
    "ExecuteTime": {
     "end_time": "2021-08-27T15:24:15.425821Z",
     "start_time": "2021-08-27T15:24:15.412856Z"
    }
   },
   "outputs": [],
   "source": [
    "df_tab_kat.shape"
   ]
  },
  {
   "cell_type": "code",
   "execution_count": null,
   "id": "cb6704a7",
   "metadata": {
    "ExecuteTime": {
     "end_time": "2021-08-27T15:24:15.440780Z",
     "start_time": "2021-08-27T15:24:15.426818Z"
    }
   },
   "outputs": [],
   "source": [
    "#Mengubah nama tema/judul kolom/variabel pada dataframe\n",
    "df_tab_kat.....name = ''\n",
    "df_tab_kat.....name"
   ]
  },
  {
   "cell_type": "code",
   "execution_count": null,
   "id": "32d2f42a",
   "metadata": {
    "ExecuteTime": {
     "end_time": "2021-08-27T15:24:15.456737Z",
     "start_time": "2021-08-27T15:24:15.442776Z"
    }
   },
   "outputs": [],
   "source": [
    "#Mengubah nama judul tema/judul baris/index pada dataframe\n",
    "df_tab_kat.....name = 'Tanggal'\n",
    "df_tab_kat.....name"
   ]
  },
  {
   "cell_type": "code",
   "execution_count": null,
   "id": "3035b92f",
   "metadata": {
    "ExecuteTime": {
     "end_time": "2021-08-27T15:24:15.486658Z",
     "start_time": "2021-08-27T15:24:15.457735Z"
    }
   },
   "outputs": [],
   "source": [
    "df_tab_kat"
   ]
  },
  {
   "cell_type": "code",
   "execution_count": null,
   "id": "a3b7a3b3",
   "metadata": {
    "ExecuteTime": {
     "end_time": "2021-08-27T15:24:15.547495Z",
     "start_time": "2021-08-27T15:24:15.523559Z"
    }
   },
   "outputs": [],
   "source": [
    "df_tab_kat.info()"
   ]
  },
  {
   "cell_type": "code",
   "execution_count": null,
   "id": "732a35a2",
   "metadata": {
    "ExecuteTime": {
     "end_time": "2021-08-27T15:24:15.578412Z",
     "start_time": "2021-08-27T15:24:15.551484Z"
    }
   },
   "outputs": [],
   "source": [
    "df_tab_kat.describe()"
   ]
  },
  {
   "cell_type": "code",
   "execution_count": null,
   "id": "93f90112",
   "metadata": {
    "ExecuteTime": {
     "end_time": "2021-08-27T15:24:15.625824Z",
     "start_time": "2021-08-27T15:24:15.580408Z"
    }
   },
   "outputs": [],
   "source": [
    "#Menyimpan dataframe menjadi dataset dengan format CSV\n",
    "df_tab_kat.to_csv('...', index = True)"
   ]
  },
  {
   "cell_type": "markdown",
   "id": "cb44d374",
   "metadata": {},
   "source": [
    "## Membuat Line Plot dari Data Tabular untuk Kategori"
   ]
  },
  {
   "cell_type": "code",
   "execution_count": null,
   "id": "ee711802",
   "metadata": {
    "ExecuteTime": {
     "end_time": "2021-08-27T15:24:17.395211Z",
     "start_time": "2021-08-27T15:24:15.627818Z"
    }
   },
   "outputs": [],
   "source": [
    "import ....pyplot as plt\n",
    "import ... as sns\n",
    "plt.style.use('...')"
   ]
  },
  {
   "cell_type": "code",
   "execution_count": null,
   "id": "7e9109a9",
   "metadata": {
    "ExecuteTime": {
     "end_time": "2021-08-27T15:24:17.410171Z",
     "start_time": "2021-08-27T15:24:17.396209Z"
    }
   },
   "outputs": [],
   "source": [
    "list(df_tab_kat)"
   ]
  },
  {
   "cell_type": "code",
   "execution_count": null,
   "id": "81bb01f5",
   "metadata": {
    "ExecuteTime": {
     "end_time": "2021-08-27T15:24:17.425077Z",
     "start_time": "2021-08-27T15:24:17.411169Z"
    }
   },
   "outputs": [],
   "source": [
    "#Menampilkan judul baris/index dalam bentuk list\n",
    "list(df_tab_kat....)"
   ]
  },
  {
   "cell_type": "code",
   "execution_count": null,
   "id": "b45bd223",
   "metadata": {
    "ExecuteTime": {
     "end_time": "2021-08-27T15:24:17.441035Z",
     "start_time": "2021-08-27T15:24:17.426074Z"
    }
   },
   "outputs": [],
   "source": [
    "#Melihat tipe/jenis data di dalam list dari judul baris/index\n",
    "type(list(df_tab_kat....)[1])"
   ]
  },
  {
   "cell_type": "code",
   "execution_count": null,
   "id": "29c9e079",
   "metadata": {
    "ExecuteTime": {
     "end_time": "2021-08-27T15:24:17.456992Z",
     "start_time": "2021-08-27T15:24:17.442032Z"
    }
   },
   "outputs": [],
   "source": [
    "#Mengubah tipe/jenis data dari judul baris/index menjadi format tanggal\n",
    "pd.Series(pd.to_datetime(df_tab_kat....))"
   ]
  },
  {
   "cell_type": "code",
   "execution_count": null,
   "id": "28d3214e",
   "metadata": {
    "ExecuteTime": {
     "end_time": "2021-08-27T15:24:17.471951Z",
     "start_time": "2021-08-27T15:24:17.458986Z"
    }
   },
   "outputs": [],
   "source": [
    "#Mengekstrak tanggal/nomor hari dari judul baris/index yang sudah berformat tanggal\n",
    "pd.Series(pd.to_datetime(df_tab_kat....)).dt.day"
   ]
  },
  {
   "cell_type": "code",
   "execution_count": null,
   "id": "2d5b18d0",
   "metadata": {
    "ExecuteTime": {
     "end_time": "2021-08-27T15:24:17.486911Z",
     "start_time": "2021-08-27T15:24:17.473948Z"
    }
   },
   "outputs": [],
   "source": [
    "pd.Series(pd.to_datetime(df_tab_kat....)).dt.day.shape"
   ]
  },
  {
   "cell_type": "code",
   "execution_count": null,
   "id": "44847824",
   "metadata": {
    "ExecuteTime": {
     "end_time": "2021-08-27T15:24:17.721177Z",
     "start_time": "2021-08-27T15:24:17.487909Z"
    }
   },
   "outputs": [],
   "source": [
    "#Menampilkan line plot dari salah satu kolom/variabel\n",
    "sns.lineplot(x = pd.Series(pd.to_datetime(df_tab_kat....)).dt.day,\n",
    "             y = df_tab_kat['...']...., label = '...')"
   ]
  },
  {
   "cell_type": "code",
   "execution_count": null,
   "id": "18ecbf34",
   "metadata": {},
   "outputs": [],
   "source": [
    "#Menampilkan nilai dari salah satu kolom/variabel dalam bentuk series\n",
    "df_tab_kat['...']"
   ]
  },
  {
   "cell_type": "code",
   "execution_count": null,
   "id": "ae8f8391",
   "metadata": {},
   "outputs": [],
   "source": [
    "#Menampilkan nilai dari salah satu kolom/variabel dalam bentuk array\n",
    "df_tab_kat['...']...."
   ]
  },
  {
   "cell_type": "code",
   "execution_count": null,
   "id": "ce46d57e",
   "metadata": {
    "ExecuteTime": {
     "end_time": "2021-08-27T15:24:18.034311Z",
     "start_time": "2021-08-27T15:24:17.723145Z"
    }
   },
   "outputs": [],
   "source": [
    "#Menampilkan line plot dari semua kolom/variabel\n",
    "sns.lineplot(x = pd.Series(pd.to_datetime(df_tab_kat....)).dt.day,\n",
    "             y = df_tab_kat['...']...., label = '...')\n",
    "sns.lineplot(x = pd.Series(pd.to_datetime(df_tab_kat....)).dt.day,\n",
    "             y = df_tab_kat['...']...., label = '...')\n",
    "sns.lineplot(x = pd.Series(pd.to_datetime(df_tab_kat....)).dt.day,\n",
    "             y = df_tab_kat['...']...., label = '...')\n",
    "sns.lineplot(x = pd.Series(pd.to_datetime(df_tab_kat....)).dt.day,\n",
    "             y = df_tab_kat['...']...., label = '...')\n",
    "sns.lineplot(x = pd.Series(pd.to_datetime(df_tab_kat....)).dt.day,\n",
    "             y = df_tab_kat['...']...., label = '...')\n",
    "plt.ylim((..., ...))\n",
    "plt.legend()\n",
    "plt.show();"
   ]
  },
  {
   "cell_type": "code",
   "execution_count": null,
   "id": "1ce255e8",
   "metadata": {
    "ExecuteTime": {
     "end_time": "2021-08-27T15:24:18.049272Z",
     "start_time": "2021-08-27T15:24:18.035312Z"
    }
   },
   "outputs": [],
   "source": [
    "df_kat['...'].groupby(df_kat['...']).value_counts()"
   ]
  },
  {
   "cell_type": "code",
   "execution_count": null,
   "id": "a3ccc6d9",
   "metadata": {},
   "outputs": [],
   "source": []
  }
 ],
 "metadata": {
  "kernelspec": {
   "display_name": "Python 3",
   "language": "python",
   "name": "python3"
  },
  "language_info": {
   "codemirror_mode": {
    "name": "ipython",
    "version": 3
   },
   "file_extension": ".py",
   "mimetype": "text/x-python",
   "name": "python",
   "nbconvert_exporter": "python",
   "pygments_lexer": "ipython3",
   "version": "3.8.8"
  },
  "toc": {
   "base_numbering": 1,
   "nav_menu": {},
   "number_sections": true,
   "sideBar": true,
   "skip_h1_title": false,
   "title_cell": "Table of Contents",
   "title_sidebar": "Contents",
   "toc_cell": false,
   "toc_position": {},
   "toc_section_display": true,
   "toc_window_display": false
  },
  "varInspector": {
   "cols": {
    "lenName": 16,
    "lenType": 16,
    "lenVar": 40
   },
   "kernels_config": {
    "python": {
     "delete_cmd_postfix": "",
     "delete_cmd_prefix": "del ",
     "library": "var_list.py",
     "varRefreshCmd": "print(var_dic_list())"
    },
    "r": {
     "delete_cmd_postfix": ") ",
     "delete_cmd_prefix": "rm(",
     "library": "var_list.r",
     "varRefreshCmd": "cat(var_dic_list()) "
    }
   },
   "types_to_exclude": [
    "module",
    "function",
    "builtin_function_or_method",
    "instance",
    "_Feature"
   ],
   "window_display": false
  }
 },
 "nbformat": 4,
 "nbformat_minor": 5
}
